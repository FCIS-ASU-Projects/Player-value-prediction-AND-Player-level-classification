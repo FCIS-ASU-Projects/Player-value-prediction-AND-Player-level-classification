{
  "nbformat": 4,
  "nbformat_minor": 0,
  "metadata": {
    "colab": {
      "name": "Prediction_test_script.ipynb",
      "provenance": [],
      "collapsed_sections": []
    },
    "kernelspec": {
      "name": "python3",
      "display_name": "Python 3"
    },
    "language_info": {
      "name": "python"
    }
  },
  "cells": [
    {
      "cell_type": "code",
      "execution_count": null,
      "metadata": {
        "colab": {
          "base_uri": "https://localhost:8080/"
        },
        "id": "cUwJpwMjKVec",
        "outputId": "50019528-9658-48e2-9779-1138013a317a"
      },
      "outputs": [
        {
          "output_type": "stream",
          "name": "stdout",
          "text": [
            "Collecting category_encoders\n",
            "  Downloading category_encoders-2.4.1-py2.py3-none-any.whl (80 kB)\n",
            "\u001b[?25l\r\u001b[K     |████                            | 10 kB 11.5 MB/s eta 0:00:01\r\u001b[K     |████████                        | 20 kB 14.9 MB/s eta 0:00:01\r\u001b[K     |████████████▏                   | 30 kB 17.2 MB/s eta 0:00:01\r\u001b[K     |████████████████▏               | 40 kB 19.2 MB/s eta 0:00:01\r\u001b[K     |████████████████████▎           | 51 kB 16.6 MB/s eta 0:00:01\r\u001b[K     |████████████████████████▎       | 61 kB 18.5 MB/s eta 0:00:01\r\u001b[K     |████████████████████████████▍   | 71 kB 15.6 MB/s eta 0:00:01\r\u001b[K     |████████████████████████████████| 80 kB 5.3 MB/s \n",
            "\u001b[?25hRequirement already satisfied: pandas>=0.21.1 in /usr/local/lib/python3.7/dist-packages (from category_encoders) (1.3.5)\n",
            "Requirement already satisfied: scipy>=1.0.0 in /usr/local/lib/python3.7/dist-packages (from category_encoders) (1.4.1)\n",
            "Requirement already satisfied: patsy>=0.5.1 in /usr/local/lib/python3.7/dist-packages (from category_encoders) (0.5.2)\n",
            "Requirement already satisfied: scikit-learn>=0.20.0 in /usr/local/lib/python3.7/dist-packages (from category_encoders) (1.0.2)\n",
            "Requirement already satisfied: statsmodels>=0.9.0 in /usr/local/lib/python3.7/dist-packages (from category_encoders) (0.10.2)\n",
            "Requirement already satisfied: numpy>=1.14.0 in /usr/local/lib/python3.7/dist-packages (from category_encoders) (1.21.6)\n",
            "Requirement already satisfied: python-dateutil>=2.7.3 in /usr/local/lib/python3.7/dist-packages (from pandas>=0.21.1->category_encoders) (2.8.2)\n",
            "Requirement already satisfied: pytz>=2017.3 in /usr/local/lib/python3.7/dist-packages (from pandas>=0.21.1->category_encoders) (2022.1)\n",
            "Requirement already satisfied: six in /usr/local/lib/python3.7/dist-packages (from patsy>=0.5.1->category_encoders) (1.15.0)\n",
            "Requirement already satisfied: threadpoolctl>=2.0.0 in /usr/local/lib/python3.7/dist-packages (from scikit-learn>=0.20.0->category_encoders) (3.1.0)\n",
            "Requirement already satisfied: joblib>=0.11 in /usr/local/lib/python3.7/dist-packages (from scikit-learn>=0.20.0->category_encoders) (1.1.0)\n",
            "Installing collected packages: category-encoders\n",
            "Successfully installed category-encoders-2.4.1\n"
          ]
        },
        {
          "output_type": "stream",
          "name": "stderr",
          "text": [
            "/usr/local/lib/python3.7/dist-packages/statsmodels/tools/_testing.py:19: FutureWarning: pandas.util.testing is deprecated. Use the functions in the public API at pandas.testing instead.\n",
            "  import pandas.util.testing as tm\n"
          ]
        }
      ],
      "source": [
        "import numpy as np\n",
        "import pandas as pd\n",
        "import  seaborn as sns\n",
        "import matplotlib.pyplot as plt\n",
        "from sklearn import linear_model\n",
        "from sklearn import metrics\n",
        "from sklearn.model_selection import train_test_split\n",
        "from sklearn.preprocessing import PolynomialFeatures\n",
        "from sklearn.preprocessing import MinMaxScaler\n",
        "from sklearn.preprocessing import LabelEncoder\n",
        "from scipy.stats import f_oneway\n",
        "from sklearn.model_selection import cross_val_score\n",
        "from sklearn.preprocessing import LabelEncoder, OneHotEncoder\n",
        "%pip install --upgrade category_encoders\n",
        "from category_encoders import TargetEncoder\n",
        "import joblib"
      ]
    },
    {
      "cell_type": "code",
      "source": [
        "player_data=pd.read_csv()"
      ],
      "metadata": {
        "id": "hTbdju7TKg9n"
      },
      "execution_count": null,
      "outputs": []
    },
    {
      "cell_type": "markdown",
      "source": [
        "**Drop columns**"
      ],
      "metadata": {
        "id": "rr1nfQq7OOLm"
      }
    },
    {
      "cell_type": "code",
      "source": [
        "#Drop columns\n",
        "player_data.drop(['national_team','national_team_position','tags',\n",
        "                  'club_team','club_position','traits','national_jersey_number','club_jersey_number','CAM',\n",
        "                  'CB','CDM','CF','CM','RAM','RB','RCB','RCM','RDM','RF','RM','RS','RW','RWB','ST','GK_handling',\n",
        "                  'GK_kicking','GK_positioning','GK_reflexes','agility','ball_control','curve','dribbling',\n",
        "                  'freekick_accuracy','long_passing','long_shots','marking','penalties','positioning','reactions',\n",
        "                  'release_clause_euro','short_passing','shot_power', 'sliding_tackle','sprint_speed','standing_tackle','volleys',\n",
        "                  'id','name','full_name','birth_date','height_cm','nationality','positions'],axis=1, inplace=True)"
      ],
      "metadata": {
        "id": "xyAL9U5uONHS"
      },
      "execution_count": null,
      "outputs": []
    },
    {
      "cell_type": "markdown",
      "source": [
        "**Handle nulls**"
      ],
      "metadata": {
        "id": "ySW8BiXeOTlV"
      }
    },
    {
      "cell_type": "code",
      "source": [
        "#fill null with zero\n",
        "player_data.fillna({'national_rating':0,'club_join_date':0,'contract_end_year':0},inplace=True) \n",
        "\n",
        "\n",
        "#predict nulls\n",
        "import joblib\n",
        "\n",
        "def impute_missing_occ (row):\n",
        "    if pd.isnull(row[column_name]) :\n",
        "        return savedmodel.predict(\n",
        "            row[['value']].values.reshape((-1,1)))\n",
        "    else:\n",
        "        return row[[column_name]]\n",
        "\n",
        "positions_Cols = ['LWB','LW','LS','LM','LF','LDM','LCM','LCB','LB','LAM']\n",
        "for column_name in positions_Cols:\n",
        "  if player_data[column_name].isnull().sum()>0 :\n",
        "    filename = column_name + \"_test\"   \n",
        "    savedmodel =joblib.load(filename)\n",
        "\n",
        "    player_data[column_name]=player_data.apply(impute_missing_occ,axis=1)\n",
        "   \n",
        "\n",
        "\n",
        "\n",
        "     "
      ],
      "metadata": {
        "id": "N-bCoct0OX7f",
        "colab": {
          "base_uri": "https://localhost:8080/",
          "height": 235
        },
        "outputId": "4b027ee1-b2fd-4a86-891b-413fdebe59eb"
      },
      "execution_count": null,
      "outputs": [
        {
          "output_type": "error",
          "ename": "NameError",
          "evalue": "ignored",
          "traceback": [
            "\u001b[0;31m---------------------------------------------------------------------------\u001b[0m",
            "\u001b[0;31mNameError\u001b[0m                                 Traceback (most recent call last)",
            "\u001b[0;32m<ipython-input-1-8741cd1ca402>\u001b[0m in \u001b[0;36m<module>\u001b[0;34m()\u001b[0m\n\u001b[1;32m      1\u001b[0m \u001b[0;31m#fill null with zero\u001b[0m\u001b[0;34m\u001b[0m\u001b[0;34m\u001b[0m\u001b[0;34m\u001b[0m\u001b[0m\n\u001b[0;32m----> 2\u001b[0;31m \u001b[0mplayer_data\u001b[0m\u001b[0;34m.\u001b[0m\u001b[0mfillna\u001b[0m\u001b[0;34m(\u001b[0m\u001b[0;34m{\u001b[0m\u001b[0;34m'national_rating'\u001b[0m\u001b[0;34m:\u001b[0m\u001b[0;36m0\u001b[0m\u001b[0;34m,\u001b[0m\u001b[0;34m'club_join_date'\u001b[0m\u001b[0;34m:\u001b[0m\u001b[0;36m0\u001b[0m\u001b[0;34m,\u001b[0m\u001b[0;34m'contract_end_year'\u001b[0m\u001b[0;34m:\u001b[0m\u001b[0;36m0\u001b[0m\u001b[0;34m}\u001b[0m\u001b[0;34m,\u001b[0m\u001b[0minplace\u001b[0m\u001b[0;34m=\u001b[0m\u001b[0;32mTrue\u001b[0m\u001b[0;34m)\u001b[0m\u001b[0;34m\u001b[0m\u001b[0;34m\u001b[0m\u001b[0m\n\u001b[0m\u001b[1;32m      3\u001b[0m \u001b[0;34m\u001b[0m\u001b[0m\n\u001b[1;32m      4\u001b[0m \u001b[0;34m\u001b[0m\u001b[0m\n\u001b[1;32m      5\u001b[0m \u001b[0;31m#predict nulls\u001b[0m\u001b[0;34m\u001b[0m\u001b[0;34m\u001b[0m\u001b[0;34m\u001b[0m\u001b[0m\n",
            "\u001b[0;31mNameError\u001b[0m: name 'player_data' is not defined"
          ]
        }
      ]
    },
    {
      "cell_type": "code",
      "source": [
        "#impute nulls\n",
        "statistics=pd.read_csv('Statistics.csv')\n",
        "\n",
        "for i,col in enumerate(player_data.columns):\n",
        "  if player_data[col].isnull().sum() > 0:\n",
        "    player_data[col].fillna(statistics[col],inplace=True)\n",
        "\n",
        "print(player_data.isnull().sum())\n"
      ],
      "metadata": {
        "id": "jfUd6MuSJcdx",
        "colab": {
          "base_uri": "https://localhost:8080/",
          "height": 191
        },
        "outputId": "1fbee74a-4c87-4df8-9406-3fd3d368ed85"
      },
      "execution_count": null,
      "outputs": [
        {
          "output_type": "execute_result",
          "data": {
            "text/plain": [
              "   id          name     full_name birth_date  age  height_cm  weight_kgs  \\\n",
              "0  16  J. Rodríguez  Adama Traoré  2/29/1992   22     182.88        74.8   \n",
              "\n",
              "  positions nationality  overall_rating  ...   CDM   RDM   RWB    LB   LCB  \\\n",
              "0        CB     England              66  ...  62+2  62+2  61+2  64+2  64+2   \n",
              "\n",
              "     CB   RCB    RB  PlayerLevel      value  \n",
              "0  64+2  64+2  64+2            C  1100000.0  \n",
              "\n",
              "[1 rows x 93 columns]"
            ],
            "text/html": [
              "\n",
              "  <div id=\"df-0873d98e-15c1-4073-bd6f-7edf56adcddc\">\n",
              "    <div class=\"colab-df-container\">\n",
              "      <div>\n",
              "<style scoped>\n",
              "    .dataframe tbody tr th:only-of-type {\n",
              "        vertical-align: middle;\n",
              "    }\n",
              "\n",
              "    .dataframe tbody tr th {\n",
              "        vertical-align: top;\n",
              "    }\n",
              "\n",
              "    .dataframe thead th {\n",
              "        text-align: right;\n",
              "    }\n",
              "</style>\n",
              "<table border=\"1\" class=\"dataframe\">\n",
              "  <thead>\n",
              "    <tr style=\"text-align: right;\">\n",
              "      <th></th>\n",
              "      <th>id</th>\n",
              "      <th>name</th>\n",
              "      <th>full_name</th>\n",
              "      <th>birth_date</th>\n",
              "      <th>age</th>\n",
              "      <th>height_cm</th>\n",
              "      <th>weight_kgs</th>\n",
              "      <th>positions</th>\n",
              "      <th>nationality</th>\n",
              "      <th>overall_rating</th>\n",
              "      <th>...</th>\n",
              "      <th>CDM</th>\n",
              "      <th>RDM</th>\n",
              "      <th>RWB</th>\n",
              "      <th>LB</th>\n",
              "      <th>LCB</th>\n",
              "      <th>CB</th>\n",
              "      <th>RCB</th>\n",
              "      <th>RB</th>\n",
              "      <th>PlayerLevel</th>\n",
              "      <th>value</th>\n",
              "    </tr>\n",
              "  </thead>\n",
              "  <tbody>\n",
              "    <tr>\n",
              "      <th>0</th>\n",
              "      <td>16</td>\n",
              "      <td>J. Rodríguez</td>\n",
              "      <td>Adama Traoré</td>\n",
              "      <td>2/29/1992</td>\n",
              "      <td>22</td>\n",
              "      <td>182.88</td>\n",
              "      <td>74.8</td>\n",
              "      <td>CB</td>\n",
              "      <td>England</td>\n",
              "      <td>66</td>\n",
              "      <td>...</td>\n",
              "      <td>62+2</td>\n",
              "      <td>62+2</td>\n",
              "      <td>61+2</td>\n",
              "      <td>64+2</td>\n",
              "      <td>64+2</td>\n",
              "      <td>64+2</td>\n",
              "      <td>64+2</td>\n",
              "      <td>64+2</td>\n",
              "      <td>C</td>\n",
              "      <td>1100000.0</td>\n",
              "    </tr>\n",
              "  </tbody>\n",
              "</table>\n",
              "<p>1 rows × 93 columns</p>\n",
              "</div>\n",
              "      <button class=\"colab-df-convert\" onclick=\"convertToInteractive('df-0873d98e-15c1-4073-bd6f-7edf56adcddc')\"\n",
              "              title=\"Convert this dataframe to an interactive table.\"\n",
              "              style=\"display:none;\">\n",
              "        \n",
              "  <svg xmlns=\"http://www.w3.org/2000/svg\" height=\"24px\"viewBox=\"0 0 24 24\"\n",
              "       width=\"24px\">\n",
              "    <path d=\"M0 0h24v24H0V0z\" fill=\"none\"/>\n",
              "    <path d=\"M18.56 5.44l.94 2.06.94-2.06 2.06-.94-2.06-.94-.94-2.06-.94 2.06-2.06.94zm-11 1L8.5 8.5l.94-2.06 2.06-.94-2.06-.94L8.5 2.5l-.94 2.06-2.06.94zm10 10l.94 2.06.94-2.06 2.06-.94-2.06-.94-.94-2.06-.94 2.06-2.06.94z\"/><path d=\"M17.41 7.96l-1.37-1.37c-.4-.4-.92-.59-1.43-.59-.52 0-1.04.2-1.43.59L10.3 9.45l-7.72 7.72c-.78.78-.78 2.05 0 2.83L4 21.41c.39.39.9.59 1.41.59.51 0 1.02-.2 1.41-.59l7.78-7.78 2.81-2.81c.8-.78.8-2.07 0-2.86zM5.41 20L4 18.59l7.72-7.72 1.47 1.35L5.41 20z\"/>\n",
              "  </svg>\n",
              "      </button>\n",
              "      \n",
              "  <style>\n",
              "    .colab-df-container {\n",
              "      display:flex;\n",
              "      flex-wrap:wrap;\n",
              "      gap: 12px;\n",
              "    }\n",
              "\n",
              "    .colab-df-convert {\n",
              "      background-color: #E8F0FE;\n",
              "      border: none;\n",
              "      border-radius: 50%;\n",
              "      cursor: pointer;\n",
              "      display: none;\n",
              "      fill: #1967D2;\n",
              "      height: 32px;\n",
              "      padding: 0 0 0 0;\n",
              "      width: 32px;\n",
              "    }\n",
              "\n",
              "    .colab-df-convert:hover {\n",
              "      background-color: #E2EBFA;\n",
              "      box-shadow: 0px 1px 2px rgba(60, 64, 67, 0.3), 0px 1px 3px 1px rgba(60, 64, 67, 0.15);\n",
              "      fill: #174EA6;\n",
              "    }\n",
              "\n",
              "    [theme=dark] .colab-df-convert {\n",
              "      background-color: #3B4455;\n",
              "      fill: #D2E3FC;\n",
              "    }\n",
              "\n",
              "    [theme=dark] .colab-df-convert:hover {\n",
              "      background-color: #434B5C;\n",
              "      box-shadow: 0px 1px 3px 1px rgba(0, 0, 0, 0.15);\n",
              "      filter: drop-shadow(0px 1px 2px rgba(0, 0, 0, 0.3));\n",
              "      fill: #FFFFFF;\n",
              "    }\n",
              "  </style>\n",
              "\n",
              "      <script>\n",
              "        const buttonEl =\n",
              "          document.querySelector('#df-0873d98e-15c1-4073-bd6f-7edf56adcddc button.colab-df-convert');\n",
              "        buttonEl.style.display =\n",
              "          google.colab.kernel.accessAllowed ? 'block' : 'none';\n",
              "\n",
              "        async function convertToInteractive(key) {\n",
              "          const element = document.querySelector('#df-0873d98e-15c1-4073-bd6f-7edf56adcddc');\n",
              "          const dataTable =\n",
              "            await google.colab.kernel.invokeFunction('convertToInteractive',\n",
              "                                                     [key], {});\n",
              "          if (!dataTable) return;\n",
              "\n",
              "          const docLinkHtml = 'Like what you see? Visit the ' +\n",
              "            '<a target=\"_blank\" href=https://colab.research.google.com/notebooks/data_table.ipynb>data table notebook</a>'\n",
              "            + ' to learn more about interactive tables.';\n",
              "          element.innerHTML = '';\n",
              "          dataTable['output_type'] = 'display_data';\n",
              "          await google.colab.output.renderOutput(dataTable, element);\n",
              "          const docLink = document.createElement('div');\n",
              "          docLink.innerHTML = docLinkHtml;\n",
              "          element.appendChild(docLink);\n",
              "        }\n",
              "      </script>\n",
              "    </div>\n",
              "  </div>\n",
              "  "
            ]
          },
          "metadata": {},
          "execution_count": 5
        }
      ]
    },
    {
      "cell_type": "markdown",
      "source": [
        "**Handle cateories**"
      ],
      "metadata": {
        "id": "bomJadnCOYSD"
      }
    },
    {
      "cell_type": "code",
      "source": [
        "def body_type_encoding(row):\n",
        "    if row[[\"body_type\"]].values == \"Lean\" :\n",
        "        return 1;\n",
        "    elif row[[\"body_type\"]].values == \"Normal\" :\n",
        "        return 2;  \n",
        "    elif row[[\"body_type\"]].values == \"Stocky\" :\n",
        "        return 3;     \n",
        "    else:\n",
        "        return 2;\n",
        "\n",
        "player_data[\"body_type\"]=player_data.apply(body_type_encoding,axis=1)  \n",
        "\n",
        "\n",
        "#work rate encoding\n",
        "def work_rate_encoding(row):\n",
        "    if row[[\"work_rate\"]].values == \"Low/ Low\" :\n",
        "        return 1;\n",
        "    elif row[[\"work_rate\"]].values == \"Low/ Medium\" :\n",
        "        return 2;  \n",
        "    elif row[[\"work_rate\"]].values == \"Medium/ Medium\" :\n",
        "        return 3;  \n",
        "    elif row[[\"work_rate\"]].values == \"Low/ High\" :\n",
        "        return 4;\n",
        "    elif row[[\"work_rate\"]].values == \"Medium/ Low\" :\n",
        "        return 5;\n",
        "    elif row[[\"work_rate\"]].values == \"Medium/ High\" :\n",
        "        return 6;\n",
        "    elif row[[\"work_rate\"]].values == \"High/ Low\" :\n",
        "        return 7;\n",
        "    elif row[[\"work_rate\"]].values == \"High/ Medium\" :\n",
        "        return 8;\n",
        "    elif row[[\"work_rate\"]].values == \"High/ High\" :\n",
        "        return 9;                           \n",
        "    else:\n",
        "        return 3;\n",
        "\n",
        "player_data[\"work_rate\"]=player_data.apply(work_rate_encoding,axis=1)\n",
        "\n",
        "#one_hot_encoding\n",
        "from sklearn.preprocessing import OneHotEncoder\n",
        "OHE=joblib.load(\"OHE\")\n",
        "preferred_foot_array=OHE.transform(player_data[['preferred_foot']]).toarray()\n",
        "preferred_foot_labels = np.array(OHE.categories_).ravel()#to make it an array, and .ravel() to convert it from array of arrays to array of strings\n",
        "preferred_foot = pd.DataFrame(preferred_foot_array, columns=preferred_foot_labels)\n",
        "v=player_data['value']\n",
        "player_data.drop(['value','preferred_foot'],axis=1,inplace=True)\n",
        "player_data = pd.concat([player_data, preferred_foot], axis = 1)\n",
        "player_data = pd.concat([player_data, v], axis = 1)\n",
        "\n",
        "\n",
        "#target encoding\n",
        "positions_Cols = ['LWB','LW','LS','LM','LF','LDM','LCM','LCB','LB','LAM']\n",
        "for column_name in positions_Cols:\n",
        "    filename = column_name + \"_predict\"  \n",
        "    target_encoder=joblib.load(filename)\n",
        "    player_data[column_name]=target_encoder.transform(player_data[column_name],player_data['value'])\n"
      ],
      "metadata": {
        "id": "usIJ3LXnOeqq"
      },
      "execution_count": null,
      "outputs": []
    },
    {
      "cell_type": "code",
      "source": [
        "player_data['club_join_date'] = player_data['club_join_date'].astype(str)\n",
        "for i,cell in enumerate(player_data['club_join_date']):\n",
        "      \n",
        "      if cell==\"0\":\n",
        "            player_data['club_join_date'][i]=int(0)\n",
        "      else:\n",
        "            player_data['club_join_date'][i]=int(cell.split('/')[2])    \n",
        "player_data['club_join_date'] = player_data['club_join_date'].astype(int)\n",
        "            \n",
        "\n",
        "\n",
        "player_data['contract_end_year'] = player_data['contract_end_year'].astype(str)\n",
        "for i,cell in enumerate(player_data['contract_end_year']):\n",
        "      if cell==\"0\":\n",
        "            player_data['contract_end_year'][i]=int(0)\n",
        "      elif len(cell)>4:      \n",
        "            player_data['contract_end_year'][i]=int(\"20\"+cell.split('-')[2])\n",
        "            \n",
        "player_data['contract_end_year'] = player_data['contract_end_year'].astype(int)      \n",
        "\n",
        "\n",
        "for i,cell in enumerate(player_data['contract_end_year']):\n",
        "    if player_data['contract_end_year'][i]==0 and player_data['club_join_date'][i]>0:\n",
        "         player_data['club_join_date'][i]=0\n",
        "    elif player_data['contract_end_year'][i]>0 and player_data['club_join_date'][i]==0:\n",
        "         player_data['contract_end_year'][i]=0\n",
        "\n",
        "# subtract contract_end_year from club_join_date\n",
        "years_player_club=player_data['contract_end_year']-player_data['club_join_date']\n",
        "player_data.insert(20,'years_player_club',years_player_club)\n",
        "# Drop contract_end_year & club_join_date\n",
        "player_data.drop(['contract_end_year','club_join_date'], axis=1, inplace=True)\n"
      ],
      "metadata": {
        "id": "ZEBmfi5QhHt_"
      },
      "execution_count": null,
      "outputs": []
    },
    {
      "cell_type": "markdown",
      "source": [
        "**predict with best models**"
      ],
      "metadata": {
        "id": "8IoQ_ZWkOns_"
      }
    },
    {
      "cell_type": "code",
      "source": [
        "Y=player_data['value']#label\n",
        "X=player_data.drop(['value'],axis=1)#features"
      ],
      "metadata": {
        "id": "rsINxKH6OtfF"
      },
      "execution_count": null,
      "outputs": []
    },
    {
      "cell_type": "code",
      "source": [
        "#feature scaling\n",
        "scaler = joblib.load('MinMaxScaler')\n",
        "X = pd.DataFrame(scaler.transform(X), columns=X.columns)\n",
        "X.head()"
      ],
      "metadata": {
        "id": "K1OUv7I99D6O"
      },
      "execution_count": null,
      "outputs": []
    },
    {
      "cell_type": "code",
      "source": [
        "import time\n",
        "\n",
        "\n",
        "def model_trial( X_test, y_test, degree=30):\n",
        "    start=time.time()\n",
        "    poly_features = PolynomialFeatures(degree=degree)\n",
        "    \n",
        "    savedmodel =joblib.load(\"prediction_test\")\n",
        "   \n",
        "    prediction = savedmodel.predict(poly_features.fit_transform(X_test))\n",
        "    test_err = metrics.mean_squared_error(y_test, prediction)\n",
        "    end=time.time()\n",
        "\n",
        "    \n",
        "    print('test subset (RMSE) for degree {}: '.format(degree), np.sqrt(test_err))\n",
        "    print('Test data Accuracy',savedmodel.score(poly_features.fit_transform(X_test),y_test))\n",
        "\n",
        "    print(f\"Training time:{end - start}s\")"
      ],
      "metadata": {
        "id": "AXuZWvrW9Evi"
      },
      "execution_count": null,
      "outputs": []
    },
    {
      "cell_type": "code",
      "source": [
        "print(\"Ridge model\")\n",
        "model_trial( X, Y ,2)"
      ],
      "metadata": {
        "id": "SveK80469Hfg"
      },
      "execution_count": null,
      "outputs": []
    }
  ]
}